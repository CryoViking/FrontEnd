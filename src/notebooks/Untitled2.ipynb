{
 "cells": [
  {
   "cell_type": "code",
   "execution_count": null,
   "metadata": {},
   "outputs": [],
   "source": [
    "seed(1)\n",
    "n = 100\n",
    "sigma = 1.0\n",
    "\n",
    "phi = 2.0 * np.pi * np.random.random(n)\n",
    "r   = np.random.normal(loc=0.0, scale=sigma, size=n)\n",
    "\n",
    "x   = r*np.cos(phi)\n",
    "y   = r*np.sin(phi)"
   ]
  }
 ],
 "metadata": {
  "kernelspec": {
   "display_name": "Python 3",
   "language": "python",
   "name": "python3"
  }
 },
 "nbformat": 4,
 "nbformat_minor": 4
}
