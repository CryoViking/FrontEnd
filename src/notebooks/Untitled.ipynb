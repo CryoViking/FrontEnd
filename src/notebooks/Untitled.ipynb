{
 "cells": [
  {
   "cell_type": "code",
   "execution_count": 7,
   "metadata": {},
   "outputs": [],
   "source": [
    "from scipy import signal as sig\n",
    "import scipy\n",
    "import numpy as np"
   ]
  },
  {
   "cell_type": "code",
   "execution_count": 3,
   "metadata": {},
   "outputs": [],
   "source": [
    "n = 100\n",
    "sigma = 1.0\n",
    "\n",
    "phi = 2.0 * np.pi * np.random.random(n)\n",
    "r   = np.random.normal(loc=0.0, scale=sigma, size=n)\n",
    "\n",
    "x   = r*np.cos(phi)\n",
    "y   = r*np.sin(phi)"
   ]
  },
  {
   "cell_type": "code",
   "execution_count": 4,
   "metadata": {},
   "outputs": [
    {
     "data": {
      "text/plain": [
       "array([-1.04545651,  0.07653626, -0.77853994,  0.95038131, -0.65693049,\n",
       "        0.11779157, -0.07809768, -0.20459836,  0.03068785,  0.55887925,\n",
       "        0.33121877,  0.04631892, -0.82403155,  1.43540506,  0.77636907,\n",
       "       -0.04422692, -0.31633923,  0.51730597, -0.45541363, -0.3427569 ,\n",
       "       -0.33083095,  0.39732114, -0.4317194 ,  0.11057283, -1.42146035,\n",
       "       -0.77417534, -0.09034831, -0.48396982,  0.59044151,  0.05494798,\n",
       "       -1.20928857,  1.28493958, -0.09470747,  1.47451953,  0.0932649 ,\n",
       "        1.28368596, -1.49302117,  0.00605618, -1.46461573, -0.08612497,\n",
       "       -0.24312998, -1.90431442, -0.12134833,  0.0060256 , -0.46961195,\n",
       "       -0.63590479,  0.42240033,  0.54229384, -0.70102057, -1.16697898,\n",
       "        0.32239627, -0.5257334 ,  0.90396031,  0.04775465, -0.58177547,\n",
       "       -0.71499449, -0.72387384,  0.4447248 ,  0.19622169,  0.00545543,\n",
       "       -0.96404165,  0.07726707, -1.12587929, -0.09677455,  0.22195289,\n",
       "       -0.18412956,  2.43756699, -0.38798005,  0.39422446,  0.83050109,\n",
       "        0.20359401, -0.05025244,  0.25832863, -0.75492201, -0.20428213,\n",
       "        0.23616938,  0.96597596,  0.43341161, -0.09811454, -0.0036237 ,\n",
       "        0.16607565,  0.0423022 ,  0.70084981,  0.66384085, -0.01778711,\n",
       "        0.08747164, -0.08439684, -0.30480458,  1.16282122, -0.86936883,\n",
       "        0.00675889,  0.04656703, -0.43721557, -0.41172379,  2.02480866,\n",
       "        0.4492631 , -0.22896264, -0.16290947, -1.08553506, -0.60952987])"
      ]
     },
     "execution_count": 4,
     "metadata": {},
     "output_type": "execute_result"
    }
   ],
   "source": [
    "x"
   ]
  },
  {
   "cell_type": "code",
   "execution_count": 5,
   "metadata": {},
   "outputs": [
    {
     "data": {
      "text/plain": [
       "100"
      ]
     },
     "execution_count": 5,
     "metadata": {},
     "output_type": "execute_result"
    }
   ],
   "source": [
    "len(x)"
   ]
  },
  {
   "cell_type": "code",
   "execution_count": 8,
   "metadata": {},
   "outputs": [],
   "source": [
    "def resample(signal, sample_size, original_sample_size):\n",
    "    print(\"Resampling\")\n",
    "    return sig.resample(signal, sample_size), np.linspace(0, original_sample_size, sample_size)\n"
   ]
  },
  {
   "cell_type": "code",
   "execution_count": 9,
   "metadata": {},
   "outputs": [],
   "source": [
    "def delay_signal(signal, delay):\n",
    "    return signal[(999999 + delay)::1000000]\n"
   ]
  },
  {
   "cell_type": "code",
   "execution_count": 11,
   "metadata": {},
   "outputs": [],
   "source": [
    "quantized_delay = int(1000000 * round(float(0.680350),6))\n",
    "             "
   ]
  },
  {
   "cell_type": "code",
   "execution_count": 12,
   "metadata": {},
   "outputs": [
    {
     "data": {
      "text/plain": [
       "680350"
      ]
     },
     "execution_count": 12,
     "metadata": {},
     "output_type": "execute_result"
    }
   ],
   "source": [
    "quantized_delay"
   ]
  },
  {
   "cell_type": "code",
   "execution_count": 13,
   "metadata": {},
   "outputs": [
    {
     "name": "stdout",
     "output_type": "stream",
     "text": [
      "Resampling\n"
     ]
    }
   ],
   "source": [
    "new_signal, newX= resample(signal=x, sample_size=1000000*100, original_sample_size=100)"
   ]
  },
  {
   "cell_type": "code",
   "execution_count": 14,
   "metadata": {},
   "outputs": [],
   "source": [
    "#delayed_signal = splice_signal(signal=apply_delay(signal=new_signal, delay=quantized_delay), step=MILLISAMPLE)\n",
    " delayed_signal = delay_signal(signal=new_signal, delay=quantized_delay)"
   ]
  },
  {
   "cell_type": "code",
   "execution_count": 15,
   "metadata": {},
   "outputs": [
    {
     "data": {
      "text/plain": [
       "array([-9.32304158e-01,  7.18123320e-01, -1.93807844e-01, -2.44363920e-01,\n",
       "        9.80797889e-02, -1.86109952e-01, -1.78311176e-01,  5.66330928e-01,\n",
       "        2.70607492e-01,  4.28147528e-01, -9.73684130e-01,  8.35933176e-01,\n",
       "        1.19919072e+00,  1.87823994e-01, -4.46699716e-01,  4.36318395e-01,\n",
       "       -1.77369844e-01, -3.87621644e-01, -4.70508017e-01,  3.54626287e-01,\n",
       "       -2.79018855e-01,  4.66475339e-02, -8.99923932e-01, -1.26409396e+00,\n",
       "       -9.41387022e-02, -3.95398182e-01,  4.96895978e-02,  8.03032363e-01,\n",
       "       -1.51440617e+00,  9.01832839e-01,  1.80919806e-01,  1.07977675e+00,\n",
       "        4.97085598e-01,  9.88643573e-01, -4.92008951e-01, -8.80924872e-01,\n",
       "       -4.73960822e-01, -1.28238067e+00,  7.61117945e-01, -2.14585086e+00,\n",
       "       -4.12347937e-01, -1.05739368e-01, -7.61508441e-02, -9.46495253e-01,\n",
       "        2.81527857e-01,  4.71623073e-01,  1.25766889e-03, -1.57029309e+00,\n",
       "        2.18077184e-01, -4.43132984e-01,  4.64814590e-01,  5.70014945e-01,\n",
       "       -5.95317985e-01, -5.61266654e-01, -9.27784960e-01,  1.64367834e-01,\n",
       "        3.43555721e-01,  1.22459320e-01, -7.41796068e-01, -3.27671042e-01,\n",
       "       -4.71735243e-01, -9.79362890e-01,  8.14097775e-01, -8.24352690e-01,\n",
       "        2.20330515e+00,  5.11083631e-01, -2.22214778e-01,  9.72240751e-01,\n",
       "        3.87679616e-01, -8.87424157e-02,  2.89853047e-01, -4.64057729e-01,\n",
       "       -5.20053521e-01,  1.46888546e-01,  7.32219589e-01,  7.77778680e-01,\n",
       "       -6.94045783e-02, -3.39728329e-02,  1.28240274e-01,  5.86608549e-02,\n",
       "        4.31153022e-01,  8.44427782e-01,  1.46990676e-01, -3.60917673e-02,\n",
       "        1.50515845e-01, -5.53365014e-01,  9.65780558e-01, -1.46690057e-01,\n",
       "       -6.37502024e-01,  4.00132310e-01, -4.50306839e-01, -5.26288244e-01,\n",
       "        1.15987380e+00,  1.58760580e+00, -7.17724288e-01,  4.15694781e-01,\n",
       "       -1.33394450e+00, -3.14707403e-01, -1.40214796e+00])"
      ]
     },
     "execution_count": 15,
     "metadata": {},
     "output_type": "execute_result"
    }
   ],
   "source": [
    "delayed_signal"
   ]
  },
  {
   "cell_type": "code",
   "execution_count": 16,
   "metadata": {},
   "outputs": [
    {
     "data": {
      "text/plain": [
       "100000000"
      ]
     },
     "execution_count": 16,
     "metadata": {},
     "output_type": "execute_result"
    }
   ],
   "source": [
    "len(new_signal)"
   ]
  },
  {
   "cell_type": "code",
   "execution_count": 17,
   "metadata": {},
   "outputs": [],
   "source": [
    "c = complex(delayed_signal[0], delayed_signal[1])"
   ]
  },
  {
   "cell_type": "code",
   "execution_count": 18,
   "metadata": {},
   "outputs": [
    {
     "data": {
      "text/plain": [
       "(-0.9323041578736996+0.7181233204294992j)"
      ]
     },
     "execution_count": 18,
     "metadata": {},
     "output_type": "execute_result"
    }
   ],
   "source": [
    "c"
   ]
  },
  {
   "cell_type": "code",
   "execution_count": 19,
   "metadata": {},
   "outputs": [
    {
     "ename": "AttributeError",
     "evalue": "'complex' object has no attribute 'size'",
     "output_type": "error",
     "traceback": [
      "\u001b[0;31m---------------------------------------------------------------------------\u001b[0m",
      "\u001b[0;31mAttributeError\u001b[0m                            Traceback (most recent call last)",
      "\u001b[0;32m<ipython-input-19-b487cbcb8b7e>\u001b[0m in \u001b[0;36m<module>\u001b[0;34m\u001b[0m\n\u001b[0;32m----> 1\u001b[0;31m \u001b[0mc\u001b[0m\u001b[0;34m.\u001b[0m\u001b[0msize\u001b[0m\u001b[0;34m\u001b[0m\u001b[0;34m\u001b[0m\u001b[0m\n\u001b[0m",
      "\u001b[0;31mAttributeError\u001b[0m: 'complex' object has no attribute 'size'"
     ]
    }
   ],
   "source": [
    "c.size"
   ]
  },
  {
   "cell_type": "code",
   "execution_count": 20,
   "metadata": {},
   "outputs": [],
   "source": [
    "import sys"
   ]
  },
  {
   "cell_type": "code",
   "execution_count": 21,
   "metadata": {},
   "outputs": [
    {
     "data": {
      "text/plain": [
       "32"
      ]
     },
     "execution_count": 21,
     "metadata": {},
     "output_type": "execute_result"
    }
   ],
   "source": [
    "sys.getsizeof(c)"
   ]
  },
  {
   "cell_type": "code",
   "execution_count": 23,
   "metadata": {},
   "outputs": [
    {
     "data": {
      "text/plain": [
       "32"
      ]
     },
     "execution_count": 23,
     "metadata": {},
     "output_type": "execute_result"
    }
   ],
   "source": [
    "sys.getsizeof(delayed_signal[1])"
   ]
  },
  {
   "cell_type": "code",
   "execution_count": 26,
   "metadata": {},
   "outputs": [
    {
     "data": {
      "text/plain": [
       "32"
      ]
     },
     "execution_count": 26,
     "metadata": {},
     "output_type": "execute_result"
    }
   ],
   "source": [
    "sys.getsizeof(round(delayed_signal[0], 3))"
   ]
  },
  {
   "cell_type": "code",
   "execution_count": null,
   "metadata": {},
   "outputs": [],
   "source": []
  }
 ],
 "metadata": {
  "kernelspec": {
   "display_name": "Python 3",
   "language": "python",
   "name": "python3"
  },
  "language_info": {
   "codemirror_mode": {
    "name": "ipython",
    "version": 3
   },
   "file_extension": ".py",
   "mimetype": "text/x-python",
   "name": "python",
   "nbconvert_exporter": "python",
   "pygments_lexer": "ipython3",
   "version": "3.6.9"
  }
 },
 "nbformat": 4,
 "nbformat_minor": 4
}
